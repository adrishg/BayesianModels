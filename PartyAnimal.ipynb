{
 "cells": [
  {
   "cell_type": "markdown",
   "metadata": {},
   "source": [
    "### Exercise 3.1\n",
    "The boss is angry and the worker has a headache - What is the probability the worker has been to a party?\n",
    "\n",
    "        p(U = tr|P = tr, D = tr) = 0.999    p(U = tr|P = fa, D = tr) = 0.9        p(H = tr|P = tr) = 0.9\n",
    "        p(U = tr|P = tr, D = fa) = 0.9      p(U = tr|P = fa, D = fa) = 0.01       p(H = tr|P = fa) = 0.2\n",
    "        p(A = tr|U = tr) = 0.95             p(A = tr|U = fa) = 0.5                p(P = tr) = 0.2\n",
    "        p(D = tr) = 0.4\n"
   ]
  },
  {
   "cell_type": "code",
   "execution_count": 2,
   "metadata": {},
   "outputs": [],
   "source": [
    "import numpy as np\n",
    "import networkx as nx\n",
    "import my_bayes_tools as mby  \n",
    "import sys"
   ]
  },
  {
   "cell_type": "markdown",
   "metadata": {},
   "source": [
    "All variables are binary\n",
    "\n",
    "    P = Been to a (P)arty\n",
    "    H = Got a (H)eadache\n",
    "    D = (D)emotivated at work\n",
    "    U = (U)nderperform at work\n",
    "    A = Boss (A)ngry\n",
    "    \n",
    "We know H and A are True"
   ]
  },
  {
   "cell_type": "code",
   "execution_count": 22,
   "metadata": {},
   "outputs": [],
   "source": [
    "G = nx.DiGraph()\n",
    "G.add_nodes_from([(0,{'name':'P','states':[0,1]}),\n",
    "                  (1,{'name':'H','states':[0,1]}),\n",
    "                  (2,{'name':'D','states':[0,1]}),\n",
    "                  (3,{'name':'U','states':[0,1]}),\n",
    "                  (4,{'name':'A','states':[0,1]})])\n",
    "              \n",
    "G.add_edges_from([(0,1), #Edge from P to H\n",
    "                  (0,3), #Edge from P to U\n",
    "                  (3,4), #Edge from U to A\n",
    "                  (2,3)]) #Edge from D to U\n",
    "\n",
    "G = mby.store_parents(G)"
   ]
  },
  {
   "cell_type": "code",
   "execution_count": 26,
   "metadata": {},
   "outputs": [
    {
     "data": {
      "text/plain": [
       "<networkx.classes.digraph.DiGraph at 0x7f85acfb5790>"
      ]
     },
     "execution_count": 26,
     "metadata": {},
     "output_type": "execute_result"
    }
   ],
   "source": [
    "# p(D)\n",
    "d = np.array([0.6,0.4]).reshape((2,1))\n",
    "# p(P)\n",
    "p = np.array([0.8,0.2]).reshape((2,1))\n",
    "\n",
    "# p(U | P, D)\n",
    "u = mby.gen_table_shape(3,G)\n",
    "u[1,0,0] = 0.01\n",
    "u[1,0,1] = 0.9\n",
    "u[1,1,0] = 0.9\n",
    "u[1,1,1] = 0.999\n",
    "u[0,0,0] = 0\n",
    "u[0,0,1] = 0\n",
    "u[0,1,0] = 0-u[0,1,1] #not really sure about this assumption // check\n",
    "u[0,1,1] = 1-u[1,1,1] #idk either\n",
    "\n",
    "#p(H | P)\n",
    "h = mby.gen_table_shape(1,G)\n",
    "h[1,0] = 0.02\n",
    "h[1,1] = 0.9\n",
    "h[0,0] = 0-h[1,0]\n",
    "h[0,1] = 0-h[1,1]\n",
    "\n",
    "#p(A | U)\n",
    "a = mby.gen_table_shape(4,G)\n",
    "a[1,0] = 0.5\n",
    "a[1,1] = 0.95\n",
    "a[0,0] = 1.-a[1,0]\n",
    "a[0,1] = 1.-a[1,1]\n",
    "\n",
    "\n",
    "\n",
    "G.nodes[0]['pbt'] = p   # Storing the probabilities\n",
    "G.nodes[1]['pbt'] = h  \n",
    "G.nodes[2]['pbt'] = d   \n",
    "G.nodes[3]['pbt'] = u   \n",
    "G.nodes[4]['pbt'] = a   \n",
    "\n",
    "G"
   ]
  },
  {
   "cell_type": "markdown",
   "metadata": {},
   "source": [
    "Given that H=True and A=True infer p(P=True)"
   ]
  },
  {
   "cell_type": "code",
   "execution_count": 34,
   "metadata": {},
   "outputs": [
    {
     "name": "stdout",
     "output_type": "stream",
     "text": [
      "\n",
      "\tThe probablility that the worker has been to a party  given \n",
      "          that the boss is angry and the worker has a headache: 0.97\n"
     ]
    }
   ],
   "source": [
    "state_space = mby.gen_state_space(G)\n",
    "\n",
    "infer_variables = [(0,1)]\n",
    "given_variables = [(1,1),(4,1)]\n",
    "pOfParty = mby.compute_cond_prob(state_space,G,infer_variables,given_variables)  \n",
    "\n",
    "print(\"\\n\\tThe probablility that the worker has been to a party  given \\n\\\n",
    "          that the boss is angry and the worker has a headache: %.2f\"%(pOfParty))\n"
   ]
  }
 ],
 "metadata": {
  "kernelspec": {
   "display_name": "Python 3",
   "language": "python",
   "name": "python3"
  },
  "language_info": {
   "codemirror_mode": {
    "name": "ipython",
    "version": 3
   },
   "file_extension": ".py",
   "mimetype": "text/x-python",
   "name": "python",
   "nbconvert_exporter": "python",
   "pygments_lexer": "ipython3",
   "version": "3.8.3"
  }
 },
 "nbformat": 4,
 "nbformat_minor": 4
}
