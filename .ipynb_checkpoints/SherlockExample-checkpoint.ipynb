{
 "cells": [
  {
   "cell_type": "code",
   "execution_count": null,
   "metadata": {},
   "outputs": [],
   "source": []
  },
  {
   "cell_type": "code",
   "execution_count": 19,
   "metadata": {},
   "outputs": [],
   "source": [
    "import numpy as np\n",
    "import networkx as nx\n",
    "import my_bayes_tools as mby  \n",
    "import sys"
   ]
  },
  {
   "cell_type": "markdown",
   "metadata": {},
   "source": [
    "$(B)urglar, (A)larm, (W)atson, Mrs (G)ibbons$\n",
    "\n",
    "$$p(B,A,G,W) = p(A|B)p(B)p(W|A)p(G|A)$$\n",
    "\n",
    "$$p (B= True | W=True, G)\t=\\displaystyle \\frac{p(B=True, W= True, G)}{p(W=True, G)}$$\n",
    "\n",
    "Conditioned of the evidence we can compute:\n",
    "\n",
    "$$p (B= True | W=True, G)\t=\\displaystyle \\frac{\\sum_{A} ( p(G|A) p(W=True | A) p(A|B=True) p(B=True) )}{\\sum_{A,B} ( p(G|A) p(W=True | A) p(A|B) p(B) )}$$\n",
    "\t\t\t\n",
    "Mrs Gibbon is a little deaf and cannot be\n",
    "sure herself that she heard the alarm, being 80 per cent sure she heard it. \n",
    "\n",
    "This can be dealt with\n",
    "using the soft-evidence technique,\n",
    "\n",
    "$p(G|~Ĝ) = \n",
    "  \\{ 0.8 G = True  ,  \n",
    "0.2 ~Ĝ= False \\}$\n"
   ]
  },
  {
   "cell_type": "code",
   "execution_count": null,
   "metadata": {},
   "outputs": [],
   "source": [
    "p(B = tr) = 0.01\n",
    "p(A = tr|B = tr) = 0.99 p(A = tr|B = fa) = 0.05\n",
    "p(W = tr|A = tr) = 0.9 p(W = tr|A = fa) = 0.5\n",
    "p(G = tr|A = tr) = 0.7 p(G = tr|A = fa) = 0.2"
   ]
  },
  {
   "cell_type": "code",
   "execution_count": 12,
   "metadata": {},
   "outputs": [],
   "source": [
    "G = nx.DiGraph()\n",
    "G.add_nodes_from([(0,{'name':'B','states':[0,1]}),\n",
    "                  (1,{'name':'A','states':[0,1]}),\n",
    "                  (2,{'name':'G','states':[0,1]}),\n",
    "                  (3,{'name':'W','states':[0,1]})])\n",
    "              \n",
    "G.add_edges_from([(0,1),\n",
    "                  (1,2),\n",
    "                  (1,3)])\n",
    "\n",
    "G = mby.store_parents(G)\n",
    "\n",
    "#print_readable_adj(G)  # Confirm the the graph has rigth shape"
   ]
  },
  {
   "cell_type": "markdown",
   "metadata": {},
   "source": [
    "Probability of a burglar entering the home:\n",
    "\n",
    "    p(B= True)= 0.01\n",
    "\n",
    "    p(A= True | B= True) = 0.99      p(A= True | B= False) = 0.05 \n",
    "    p(W= True | A= True) = 0.9       p(W= True | A= False) = 0.5 \n",
    "    p(G= True | A= True) = 0.7       p(G= True | A= False) = 0.2 \n"
   ]
  },
  {
   "cell_type": "code",
   "execution_count": 20,
   "metadata": {},
   "outputs": [],
   "source": [
    "#p(B= True)= 0.01 and p(B=False)=1-0.01\n",
    "b = np.array([0.99,0.01]).reshape((2,1))\n",
    "\n",
    "#p(A | B)\n",
    "a = mby.gen_table_shape(1,G)\n",
    "a[1,0] = 0.05\n",
    "a[1,1] = 0.99\n",
    "a[0,0] = 1.-a[1,0]\n",
    "a[0,1] = 1.-a[1,1]\n",
    "\n",
    "#p(W | A)\n",
    "w = mby.gen_table_shape(3,G)\n",
    "w[1,0] = 0.5\n",
    "w[1,1] = 0.9\n",
    "w[0,0] = 1.-w[1,0]\n",
    "w[0,1] = 1.-w[1,1]\n",
    "\n",
    "#p(G | A)\n",
    "g = mby.gen_table_shape(2,G)\n",
    "g[1,0] = 0.2\n",
    "g[1,1] = 0.7\n",
    "g[0,0] = 1.-g[1,0]\n",
    "g[0,1] = 1.-g[1,1]\n",
    "\n",
    "\n",
    "G.nodes[0]['pbt'] = b   # Storing the probabilities\n",
    "G.nodes[1]['pbt'] = a   # Storing the pbt\n",
    "G.nodes[2]['pbt'] = g   # Stoting the pbt\n",
    "G.nodes[3]['pbt'] = w   # Storing the pbt\n"
   ]
  },
  {
   "cell_type": "code",
   "execution_count": 8,
   "metadata": {},
   "outputs": [
    {
     "name": "stdout",
     "output_type": "stream",
     "text": [
      "\n",
      "The probablility that Burglar entered Holmes' house \n",
      " given that Watson heard the alarm and\n",
      "          Mrs Gibbons also heard it: 0.28\n",
      "\n",
      "The probablility that Burglar entered Holmes' house \n",
      " given that Watson heard the alarm and\n",
      "          Mrs Gibbons did not hear it: 0.04\n",
      "\n",
      "The probablility that Burglar entered Holmes' house \n",
      " given that Watson heard the alarm and\n",
      "          Mrs Gibbons is 80% sure she heard it too is: 0.24\n"
     ]
    }
   ],
   "source": [
    "\n",
    "state_space = mby.gen_state_space(G)\n",
    "\n",
    "infer_variables = [(1,1)]\n",
    "given_variables = [(3,1),(2,1)]\n",
    "val_1 = mby.compute_cond_prob(state_space,G,infer_variables,given_variables)  #  Does it make sense to add \"soft_evidence\" set? \n",
    "\n",
    "print(\"\\nThe probablility that Burglar entered Holmes' house \\n given that Watson heard the alarm and\\n\\\n",
    "          Mrs Gibbons also heard it: %.2f\"%(val_1))\n",
    "\n",
    "given_variables = [(3,1),(2,0)]   # This is the only modification with respecto to the previous calculus \n",
    "val_0 = mby.compute_cond_prob(state_space,G,infer_variables,given_variables)\n",
    "print(\"\\nThe probablility that Burglar entered Holmes' house \\n given that Watson heard the alarm and\\n\\\n",
    "          Mrs Gibbons did not hear it: %.2f\"%(val_0))\n",
    "\n",
    "soft_evidence_G = { '0' : 0.2 , '1' : 0.8 } # Should be added as a extra node? So to let the calculation be done by tools we already have? \n",
    "\n",
    "uncertain_G = val_1*soft_evidence_G['1'] + val_0*soft_evidence_G['0']\n",
    "print(\"\\nThe probablility that Burglar entered Holmes' house \\n given that Watson heard the alarm and\\n\\\n",
    "          Mrs Gibbons is 80%% sure she heard it too is: %.2f\"%(uncertain_G))\n"
   ]
  }
 ],
 "metadata": {
  "kernelspec": {
   "display_name": "Python 3",
   "language": "python",
   "name": "python3"
  },
  "language_info": {
   "codemirror_mode": {
    "name": "ipython",
    "version": 3
   },
   "file_extension": ".py",
   "mimetype": "text/x-python",
   "name": "python",
   "nbconvert_exporter": "python",
   "pygments_lexer": "ipython3",
   "version": "3.8.3"
  }
 },
 "nbformat": 4,
 "nbformat_minor": 4
}
